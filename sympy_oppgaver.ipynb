{
 "cells": [
  {
   "cell_type": "markdown",
   "id": "c5d68936-6647-48e7-8912-10ee0a3c4238",
   "metadata": {},
   "source": [
    "# SYMPY OPPGAVER\n",
    "\n",
    "## Oppgave 15\n",
    "### Oppgave 1\n",
    "Løs likningssettene nedenfor ved hjelp av innsettingsssmetoden. Sett ogs˚a prøve p˚a svaret\n",
    "\n",
    "#### a)\n",
    "(1) $2x + 4y = 6$\n",
    "<br>(2) $−2x + y = 4$\n"
   ]
  },
  {
   "cell_type": "code",
   "execution_count": 48,
   "id": "45a27d76-5fe6-45be-9459-e0c232e835bb",
   "metadata": {},
   "outputs": [],
   "source": [
    "# IMPORT\n",
    "from sympy import *\n",
    "\n",
    "def print_info(oppgave_n, eq_list,eq_solution):\n",
    "    print(f\"Oppgave {oppgave_n}\\n{'-'*10}\\n\")\n",
    "    print(f\"Equations: \\n{eq_list[0]}\\n{eq_list[1]}\\n{'-'*10}\\n\")\n",
    "    print(f\"solution = {eq_solution}\")\n"
   ]
  },
  {
   "cell_type": "code",
   "execution_count": 49,
   "id": "c1cdd729-8621-451a-8e79-645ab5953d3d",
   "metadata": {},
   "outputs": [
    {
     "name": "stdout",
     "output_type": "stream",
     "text": [
      "Oppgave 1 -A\n",
      "----------\n",
      "\n",
      "Equations: \n",
      "Eq(2*x + 4*y, 6)\n",
      "Eq(-2*x + y, 4)\n",
      "----------\n",
      "\n",
      "solution = {x: -1, y: 2}\n"
     ]
    }
   ],
   "source": [
    "x,y= symbols(\"x y\")\n",
    "sym = [x,y]\n",
    "eq = [Eq(2*x+4*y,6),Eq(-2*x+y,4)]\n",
    "\n",
    "eq_solution = solve(eq,sym)\n",
    "\n",
    "print_info(\"1 -A\",eq,eq_solution)"
   ]
  },
  {
   "cell_type": "code",
   "execution_count": 50,
   "id": "48f66a63-bff0-4402-9b1e-769db87dfd48",
   "metadata": {},
   "outputs": [
    {
     "name": "stdout",
     "output_type": "stream",
     "text": [
      "Oppgave 1 -B\n",
      "----------\n",
      "\n",
      "Equations: \n",
      "Eq(2*x - y, -1)\n",
      "Eq(x**2 + x - y, 1)\n",
      "----------\n",
      "\n",
      "solution = [(-1, -1), (2, 5)]\n"
     ]
    }
   ],
   "source": [
    "#b)\n",
    "#(1) 2x − y = −1\n",
    "#(2) x^2 + x − y = 1\n",
    "\n",
    "x,y= symbols(\"x y\")\n",
    "sym = [x,y]\n",
    "eq = [Eq(2*x-y,-1),Eq(x**2+x-y,1)]\n",
    "\n",
    "eq_solution = solve(eq,sym)\n",
    "\n",
    "print_info(\"1 -B\",eq,eq_solution)"
   ]
  },
  {
   "cell_type": "markdown",
   "id": "ba2806d8-5c0b-4204-a6ed-dd8fd48b2484",
   "metadata": {},
   "source": [
    "### Oppgave 2\n",
    "Nedenfor følger to likningssett. Du skal løse disse ved bruk av innsettingsmetoden. Sett prøve p˚a svaret i det første likningssettet.\n",
    "\n",
    "#### a)\n",
    "(1) $3x − 12 = −6y$\n",
    "<br> (2) $4x − 8y = 16$"
   ]
  },
  {
   "cell_type": "code",
   "execution_count": 83,
   "id": "10ccf65b-8957-414e-bfb3-f478337bb506",
   "metadata": {},
   "outputs": [
    {
     "name": "stdout",
     "output_type": "stream",
     "text": [
      "Oppgave 2 -A\n",
      "----------\n",
      "\n",
      "Equations: \n",
      "Eq(3*x - 12, -6*y)\n",
      "Eq(4*x - 8*y, 16)\n",
      "----------\n",
      "\n",
      "solution = {x: 4, y: 0}\n"
     ]
    }
   ],
   "source": [
    "x,y= symbols(\"x y\")\n",
    "sym = [x,y]\n",
    "eq = [Eq(3*x-12,-6*y),Eq(4*x-8*y,16)]\n",
    "\n",
    "eq_solution = solve(eq,sym)\n",
    "\n",
    "print_info(\"2 -A\",eq,eq_solution)\n"
   ]
  },
  {
   "cell_type": "markdown",
   "id": "4488d4f7-7ecb-4d25-9e1b-27b15ff9c50b",
   "metadata": {},
   "source": [
    "### b)\n",
    "(1) $x^2 + 4x − 3 = 3y$\n",
    "<br> (2) $2y = 8 − x$"
   ]
  },
  {
   "cell_type": "code",
   "execution_count": 85,
   "id": "dc228a5c-9113-49ce-aa0b-c14e4291b405",
   "metadata": {},
   "outputs": [
    {
     "name": "stdout",
     "output_type": "stream",
     "text": [
      "Oppgave 2 -b\n",
      "----------\n",
      "\n",
      "Equations: \n",
      "Eq(x**2 + 4*x - 3, 3*y)\n",
      "Eq(2*y, 8 - x)\n",
      "----------\n",
      "\n",
      "solution = [(-15/2, 31/4), (2, 3)]\n"
     ]
    }
   ],
   "source": [
    "x,y= symbols(\"x y\")\n",
    "sym = [x,y]\n",
    "eq = [Eq(x**2+4*x-3,3*y),Eq(2*y,8-x)]\n",
    "\n",
    "eq_solution = solve(eq,sym)\n",
    "\n",
    "print_info(\"2 -b\",eq,eq_solution)"
   ]
  },
  {
   "cell_type": "markdown",
   "id": "7621b508-771e-4099-bcb5-45a9f9b7436d",
   "metadata": {},
   "source": [
    "## OPPGAVE 16\n",
    "\n",
    "### oppgave 1\n",
    "Nedenfor følger to likningssett. Løs disse ved bruk av addisjonssmetoden. Sett ogs ̊a prøve\n",
    "#p ̊a svaret i det første likningssettet.\n",
    "\n",
    "#### a)\n",
    "(1) $4x + 2y = 12$\n",
    "<br>(2) $6x − 2y = 8$"
   ]
  },
  {
   "cell_type": "code",
   "execution_count": 95,
   "id": "ec271dd1-1973-42af-bf51-fbf6eab50ba7",
   "metadata": {},
   "outputs": [
    {
     "name": "stdout",
     "output_type": "stream",
     "text": [
      "Oppgave 1 -A\n",
      "----------\n",
      "\n",
      "Equations: \n",
      "Eq(4*x + 2*y, 12)\n",
      "Eq(6*x - 2*y, 8)\n",
      "----------\n",
      "\n",
      "solution = {x: 2, y: 2}\n"
     ]
    }
   ],
   "source": [
    "x,y= symbols(\"x y\")\n",
    "sym = [x,y]\n",
    "eq = [Eq(4*x+2*y,12),Eq(6*x-2*y,8)]\n",
    "\n",
    "eq_solution = solve(eq,sym)\n",
    "\n",
    "print_info(\"1 -A\",eq,eq_solution)"
   ]
  },
  {
   "cell_type": "markdown",
   "id": "a4ff2e8b-e5fe-45bc-b48a-3eb3e957aa31",
   "metadata": {},
   "source": [
    "#### b)\n",
    "\n",
    "(1) $2x + y2 = 25$\n",
    "<br>(2) $x − 2y = 10$"
   ]
  },
  {
   "cell_type": "code",
   "execution_count": 97,
   "id": "4be92cad-bc3e-4672-95e0-1a907213e041",
   "metadata": {},
   "outputs": [
    {
     "name": "stdout",
     "output_type": "stream",
     "text": [
      "Oppgave 1 -B\n",
      "----------\n",
      "\n",
      "Equations: \n",
      "Eq(2*x + y**2, 25)\n",
      "Eq(x - 2*y, 10)\n",
      "----------\n",
      "\n",
      "solution = [(0, -5), (12, 1)]\n"
     ]
    }
   ],
   "source": [
    "x,y= symbols(\"x y\")\n",
    "sym = [x,y]\n",
    "eq = [Eq(2*x+y**2,25),Eq(x-2*y,10)]\n",
    "\n",
    "eq_solution = solve(eq,sym)\n",
    "\n",
    "print_info(\"1 -B\",eq,eq_solution)"
   ]
  },
  {
   "cell_type": "markdown",
   "id": "c8405d9d-ee30-4033-8b92-a678b8573ed5",
   "metadata": {},
   "source": [
    "### Oppgave 2\n",
    "Nedenfor følger to likningssett. Du skal løse disse ved bruk av innsettingsmetoden. Sett prøve p˚a svaret i det første likningssettet.\n",
    "\n",
    "#### a)\n",
    "(1) $4x − 4y = 8$\n",
    "<br>(2) $9x − 5y = 26$"
   ]
  },
  {
   "cell_type": "code",
   "execution_count": 98,
   "id": "9cde703e-8507-4348-91dc-937d6b0cc657",
   "metadata": {},
   "outputs": [
    {
     "name": "stdout",
     "output_type": "stream",
     "text": [
      "Oppgave 2 -A\n",
      "----------\n",
      "\n",
      "Equations: \n",
      "Eq(4*x - 4*y, 8)\n",
      "Eq(9*x - 5*y, 26)\n",
      "----------\n",
      "\n",
      "solution = {x: 4, y: 2}\n"
     ]
    }
   ],
   "source": [
    "x,y= symbols(\"x y\")\n",
    "sym = [x,y]\n",
    "eq = [Eq(4*x-4*y,8),Eq(9*x-5*y,26)]\n",
    "\n",
    "eq_solution = solve(eq,sym)\n",
    "print_info(\"2 -A\",eq,eq_solution)"
   ]
  },
  {
   "cell_type": "markdown",
   "id": "8624a716-1d26-40fc-8876-079b4ac8ef79",
   "metadata": {},
   "source": [
    "#### b)\n",
    "(1) $x + 2y2 = 15$\n",
    "<br>(2) $x2 − 4y2 = 33$"
   ]
  },
  {
   "cell_type": "code",
   "execution_count": 99,
   "id": "49a13c70-7699-4c65-88d8-61b28af50596",
   "metadata": {},
   "outputs": [
    {
     "name": "stdout",
     "output_type": "stream",
     "text": [
      "Oppgave 2 -B\n",
      "----------\n",
      "\n",
      "Equations: \n",
      "Eq(x + 2*y**2, 15)\n",
      "Eq(x**2 - 4*y**2, 33)\n",
      "----------\n",
      "\n",
      "solution = [(-9, -2*sqrt(3)), (-9, 2*sqrt(3)), (7, -2), (7, 2)]\n"
     ]
    }
   ],
   "source": [
    "x,y= symbols(\"x y\")\n",
    "sym = [x,y]\n",
    "eq = [Eq(x+2*y**2,15),Eq(x**2-4*y**2,33)]\n",
    "\n",
    "eq_solution = solve(eq,sym)\n",
    "print_info(\"2 -B\",eq,eq_solution)"
   ]
  },
  {
   "cell_type": "markdown",
   "id": "457854af-c252-4f67-b45b-c4b3b0a3af50",
   "metadata": {},
   "source": [
    "## OPPGAVE 17\n",
    "\n",
    "### oppgave 1\n",
    "Du skal løse de følgende likningssettene ved hjelp av faktoriseringsmetoden. Sett ogs ̊a prøve\n",
    "p ̊a svaret i det første likningssettet.\n",
    "\n",
    "#### a)\n",
    "(1) xy2 − x = 0\n",
    "<br>(2) x + y2 = 16"
   ]
  },
  {
   "cell_type": "code",
   "execution_count": 204,
   "id": "a665c63b-b937-4871-9a0c-d03ec35ccac0",
   "metadata": {},
   "outputs": [
    {
     "name": "stdout",
     "output_type": "stream",
     "text": [
      "Oppgave 1 -A\n",
      "----------\n",
      "\n",
      "Equations: \n",
      "Eq(x*y**2 - x, 0)\n",
      "Eq(x + y**2, 16)\n",
      "----------\n",
      "\n",
      "solution = [(0, -4), (0, 4), (15, -1), (15, 1)]\n"
     ]
    }
   ],
   "source": [
    "x,y= symbols(\"x y\")\n",
    "sym = [x,y]\n",
    "eq = [Eq(x*y**2-x,0),Eq(x+y**2,16)]\n",
    "\n",
    "eq_solution = solve(eq,sym)\n",
    "print_info(\"1 -A\",eq,eq_solution)"
   ]
  },
  {
   "cell_type": "markdown",
   "id": "f3403057-6d6b-4d5b-a5ac-6d6ee93264f9",
   "metadata": {},
   "source": [
    "### Oppgave 2\n",
    "Bruk faktoriseringsmetoden for  ̊a løse de to likningssettene nedenfor. Avslutt med  ̊a sette\n",
    "prøve p ̊a svaret i det siste likningssettet.\n",
    "\n",
    "## a)\n",
    "$xy2 − 49x = 0$\n",
    "<br>$x2 + y2 = 58$"
   ]
  },
  {
   "cell_type": "code",
   "execution_count": 44,
   "id": "06b30e81-39b3-4931-87aa-a6617568da3b",
   "metadata": {},
   "outputs": [
    {
     "name": "stdout",
     "output_type": "stream",
     "text": [
      "Oppgave 2 -A\n",
      "----------\n",
      "\n",
      "Equations: \n",
      "Eq(x*y**2 - 49*x, 0)\n",
      "Eq(x**2 + y**2, 58)\n",
      "----------\n",
      "\n",
      "solution = [(-3, -7), (-3, 7), (0, -sqrt(58)), (0, sqrt(58)), (3, -7), (3, 7)]\n"
     ]
    }
   ],
   "source": [
    "x,y= symbols(\"x y\")\n",
    "sym = [x,y]\n",
    "eq = [Eq(x*y**2-49*x,0),Eq(x**2+y**2,58)]\n",
    "\n",
    "eq_solution = solve(eq,sym)\n",
    "print_info(\"2 -A\",eq,eq_solution)"
   ]
  },
  {
   "cell_type": "markdown",
   "id": "cbdc75e2-2338-4804-8508-7b827e25baf3",
   "metadata": {},
   "source": [
    "## b)\n",
    "$x2 + y2 = (5/4)$\n",
    "<br>$2xy + y = 0$"
   ]
  },
  {
   "cell_type": "code",
   "execution_count": 43,
   "id": "fd69d746-d114-4052-9125-922c8bc6e0ab",
   "metadata": {},
   "outputs": [
    {
     "name": "stdout",
     "output_type": "stream",
     "text": [
      "Oppgave 2 -A\n",
      "----------\n",
      "\n",
      "Equations: \n",
      "Eq(x**2 + y**2, 1.25)\n",
      "Eq(2*x*y + y, 0)\n",
      "----------\n",
      "\n",
      "solution = [(-1.11803398874989, 0.0), (-0.500000000000000, -1.00000000000000), (-0.500000000000000, 1.00000000000000), (1.11803398874989, 0.0)]\n"
     ]
    }
   ],
   "source": [
    "x,y= symbols(\"x y\")\n",
    "sym = [x,y]\n",
    "eq = [Eq(x**2+y**2,(5/4)),Eq(2*x*y+y,0)]\n",
    "\n",
    "eq_solution = solve(eq,sym)\n",
    "print_info(\"2 -A\",eq,eq_solution)"
   ]
  },
  {
   "cell_type": "markdown",
   "id": "4575629a-08d8-4906-bdb4-6c32a180ff18",
   "metadata": {},
   "source": [
    "## OPPGAVE 19\n",
    "\n",
    "### Oppgave 1\n",
    "Finn f′(x) til følgende funksjoner:\n",
    "\n",
    "#### a) \n",
    "$f(x) = x^5$"
   ]
  },
  {
   "cell_type": "code",
   "execution_count": 207,
   "id": "8f32c796-e54e-4307-93a9-867c7db566f0",
   "metadata": {},
   "outputs": [
    {
     "data": {
      "text/latex": [
       "$\\displaystyle 5 x^{4}$"
      ],
      "text/plain": [
       "5*x**4"
      ]
     },
     "execution_count": 207,
     "metadata": {},
     "output_type": "execute_result"
    }
   ],
   "source": [
    "expr = x**5\n",
    "diff(expr)"
   ]
  },
  {
   "cell_type": "markdown",
   "id": "300137dc-97e2-443d-a145-56c2b7061fdc",
   "metadata": {},
   "source": [
    "#### b) \n",
    "$f(x) = x + 12$"
   ]
  },
  {
   "cell_type": "code",
   "execution_count": 208,
   "id": "756fdf7e-b13f-4ed6-8d1f-5290a79f5adc",
   "metadata": {},
   "outputs": [
    {
     "data": {
      "text/latex": [
       "$\\displaystyle 1$"
      ],
      "text/plain": [
       "1"
      ]
     },
     "execution_count": 208,
     "metadata": {},
     "output_type": "execute_result"
    }
   ],
   "source": [
    "expr = x+12\n",
    "diff(expr)"
   ]
  },
  {
   "cell_type": "markdown",
   "id": "f027b48e-36f0-4450-80f3-a1510efebe33",
   "metadata": {},
   "source": [
    "#### c)\n",
    "$x^3 + 4x^2$"
   ]
  },
  {
   "cell_type": "code",
   "execution_count": 209,
   "id": "688ee2d9-d9f8-47bd-89fe-512bbbdffd66",
   "metadata": {},
   "outputs": [
    {
     "data": {
      "text/latex": [
       "$\\displaystyle x \\left(3 x + 8\\right)$"
      ],
      "text/plain": [
       "x*(3*x + 8)"
      ]
     },
     "execution_count": 209,
     "metadata": {},
     "output_type": "execute_result"
    }
   ],
   "source": [
    "expr = x**3+4*x**2\n",
    "factor(diff(expr))"
   ]
  },
  {
   "cell_type": "markdown",
   "id": "a72d6291-441e-46f7-add1-b88356c93d85",
   "metadata": {},
   "source": [
    "#### d) \n",
    "$f(x) = 2x^3 + √36$"
   ]
  },
  {
   "cell_type": "code",
   "execution_count": 211,
   "id": "cf17c641-0bf7-4373-8029-89a4e575ef61",
   "metadata": {},
   "outputs": [
    {
     "data": {
      "text/latex": [
       "$\\displaystyle 6 x^{2}$"
      ],
      "text/plain": [
       "6*x**2"
      ]
     },
     "execution_count": 211,
     "metadata": {},
     "output_type": "execute_result"
    }
   ],
   "source": [
    "expr = 2*x**3 + sqrt(36)\n",
    "diff(expr)"
   ]
  },
  {
   "cell_type": "markdown",
   "id": "19394b55-0101-4ce4-8a2f-34c7c8112f7f",
   "metadata": {},
   "source": [
    "#### e)\n",
    "$f(x) = √x + 5^2$"
   ]
  },
  {
   "cell_type": "code",
   "execution_count": 212,
   "id": "be308ac4-101b-420a-ab76-86bb40cc99d3",
   "metadata": {},
   "outputs": [
    {
     "data": {
      "text/latex": [
       "$\\displaystyle \\frac{1}{2 \\sqrt{x}}$"
      ],
      "text/plain": [
       "1/(2*sqrt(x))"
      ]
     },
     "execution_count": 212,
     "metadata": {},
     "output_type": "execute_result"
    }
   ],
   "source": [
    "expr =sqrt(x)+5**2\n",
    "diff(expr)"
   ]
  },
  {
   "cell_type": "markdown",
   "id": "64511e7e-8965-43e6-ac0e-9356c68f535e",
   "metadata": {},
   "source": [
    "#### f)\n",
    "$f(x) = x^3 + (1/x)$"
   ]
  },
  {
   "cell_type": "code",
   "execution_count": 213,
   "id": "1d25f4ff-32d4-4c71-9c5c-2556474e473a",
   "metadata": {},
   "outputs": [
    {
     "data": {
      "text/latex": [
       "$\\displaystyle 3 x^{2} - \\frac{1}{x^{2}}$"
      ],
      "text/plain": [
       "3*x**2 - 1/x**2"
      ]
     },
     "execution_count": 213,
     "metadata": {},
     "output_type": "execute_result"
    }
   ],
   "source": [
    "expr = x**3 + (1/x)\n",
    "diff(expr)"
   ]
  },
  {
   "cell_type": "markdown",
   "id": "d39a1d41-60a9-4a1c-acc7-6b6849534f0b",
   "metadata": {},
   "source": [
    "#### g)\n",
    "$f(x) = x3 − x2 + (1/4)x$"
   ]
  },
  {
   "cell_type": "code",
   "execution_count": 215,
   "id": "7387a5c5-140c-475c-aa28-0ec5f4f07277",
   "metadata": {},
   "outputs": [
    {
     "data": {
      "text/latex": [
       "$\\displaystyle 3 x^{2} - 2 x + 0.25$"
      ],
      "text/plain": [
       "3*x**2 - 2*x + 0.25"
      ]
     },
     "execution_count": 215,
     "metadata": {},
     "output_type": "execute_result"
    }
   ],
   "source": [
    "expr =x**3 - x**2 + (1/4)*x\n",
    "diff(expr)"
   ]
  },
  {
   "cell_type": "markdown",
   "id": "d95eb554-812f-4fb7-bab4-af864ffa07d3",
   "metadata": {},
   "source": [
    "### Oppgave 2\n",
    "Deriver funksjonene nedenfor:\n",
    "\n",
    "#### a) \n",
    "$f(x) = (1/x) + 6x^6$"
   ]
  },
  {
   "cell_type": "code",
   "execution_count": 216,
   "id": "b6f71fb4-270c-414e-895f-e8c08139b57e",
   "metadata": {},
   "outputs": [
    {
     "data": {
      "text/latex": [
       "$\\displaystyle 36 x^{5} - \\frac{1}{x^{2}}$"
      ],
      "text/plain": [
       "36*x**5 - 1/x**2"
      ]
     },
     "execution_count": 216,
     "metadata": {},
     "output_type": "execute_result"
    }
   ],
   "source": [
    "expr =(1/x)+6*x**6\n",
    "diff(expr)"
   ]
  },
  {
   "cell_type": "markdown",
   "id": "25916251-946d-4d1b-9468-850d6f155097",
   "metadata": {},
   "source": [
    "#### b) \n",
    "$f(x) = −x + (1/2)x^3$"
   ]
  },
  {
   "cell_type": "code",
   "execution_count": 217,
   "id": "bf74fb9d-5290-4197-93aa-40a2247020a5",
   "metadata": {},
   "outputs": [
    {
     "data": {
      "text/latex": [
       "$\\displaystyle 1.5 x^{2} - 1$"
      ],
      "text/plain": [
       "1.5*x**2 - 1"
      ]
     },
     "execution_count": 217,
     "metadata": {},
     "output_type": "execute_result"
    }
   ],
   "source": [
    "expr = -x+(1/2)*x**3\n",
    "diff(expr)"
   ]
  },
  {
   "cell_type": "markdown",
   "id": "2dfef439-c6e0-465a-8c20-56ee84f1c84b",
   "metadata": {},
   "source": [
    "#### c)\n",
    "$f(x) = x(x2 + 2x − 3)$"
   ]
  },
  {
   "cell_type": "code",
   "execution_count": 218,
   "id": "469c2372-d787-4945-8749-125cc235e5be",
   "metadata": {},
   "outputs": [
    {
     "data": {
      "text/latex": [
       "$\\displaystyle 3 x^{2} + 4 x - 3$"
      ],
      "text/plain": [
       "3*x**2 + 4*x - 3"
      ]
     },
     "execution_count": 218,
     "metadata": {},
     "output_type": "execute_result"
    }
   ],
   "source": [
    "expr =x*(x**2+2*x-3)\n",
    "factor(diff(expr))"
   ]
  },
  {
   "cell_type": "markdown",
   "id": "c83eddfb-a81b-43b7-8e24-9ca423a26ae5",
   "metadata": {},
   "source": [
    "## 20\n",
    "\n",
    "### oppgave 1\n",
    "Skriv først uttrykkene nedenfor som potenser, og skriv deretter svaret som rotuttrykk hvis\n",
    "du mener det er hensiktsmessig.\n",
    "\n",
    "#### a)\n",
    " $3√x12$"
   ]
  },
  {
   "cell_type": "code",
   "execution_count": 154,
   "id": "fb32ce48-fae7-455a-bf1c-241b92920546",
   "metadata": {},
   "outputs": [
    {
     "data": {
      "text/latex": [
       "$\\displaystyle x^{4}$"
      ],
      "text/plain": [
       "x**4"
      ]
     },
     "execution_count": 154,
     "metadata": {},
     "output_type": "execute_result"
    }
   ],
   "source": [
    "x = symbols(\"x\", positive=True)\n",
    "root(x**12, 3)"
   ]
  },
  {
   "cell_type": "markdown",
   "id": "c85b5857-cd31-43fa-86d5-4302d40ba9ee",
   "metadata": {},
   "source": [
    "#### b)\n",
    "$8√(x2 + 4)4$"
   ]
  },
  {
   "cell_type": "code",
   "execution_count": 162,
   "id": "5db07bf8-25a1-4735-a254-c41af50cbcdd",
   "metadata": {},
   "outputs": [
    {
     "data": {
      "text/latex": [
       "$\\displaystyle \\sqrt{x^{2} + 4}$"
      ],
      "text/plain": [
       "sqrt(x**2 + 4)"
      ]
     },
     "execution_count": 162,
     "metadata": {},
     "output_type": "execute_result"
    }
   ],
   "source": [
    "x = symbols(\"x\", positive=True)\n",
    "root((x**2+4)**4, 8)"
   ]
  },
  {
   "cell_type": "markdown",
   "id": "f81feae8-5afa-41da-b20b-8f19bc34e23e",
   "metadata": {},
   "source": [
    "#### c)\n",
    "$√x · 3√x$"
   ]
  },
  {
   "cell_type": "code",
   "execution_count": 54,
   "id": "74aa35e7-2b25-455a-8974-1114d38ff146",
   "metadata": {},
   "outputs": [
    {
     "data": {
      "text/latex": [
       "$\\displaystyle x^{\\frac{5}{6}}$"
      ],
      "text/plain": [
       "x**(5/6)"
      ]
     },
     "execution_count": 54,
     "metadata": {},
     "output_type": "execute_result"
    }
   ],
   "source": [
    "x = symbols(\"x\", positive=True)\n",
    "root(x, 2)*root(x,3)"
   ]
  },
  {
   "cell_type": "markdown",
   "id": "75d69126-a8a0-44a8-b0b9-ed287cf1d25e",
   "metadata": {},
   "source": [
    "#### d)\n",
    "$4√(x + 2)1/2$"
   ]
  },
  {
   "cell_type": "code",
   "execution_count": 165,
   "id": "5f838f26-029c-4407-9a54-6e2483c02430",
   "metadata": {},
   "outputs": [
    {
     "data": {
      "text/latex": [
       "$\\displaystyle \\left(x + 2\\right)^{0.125}$"
      ],
      "text/plain": [
       "(x + 2)**0.125"
      ]
     },
     "execution_count": 165,
     "metadata": {},
     "output_type": "execute_result"
    }
   ],
   "source": [
    "x = symbols(\"x\", positive=True)\n",
    "root((x+2)**(1/2), 4)"
   ]
  },
  {
   "cell_type": "markdown",
   "id": "85c45081-c762-44ab-a1dd-f2ca1da11a24",
   "metadata": {},
   "source": [
    "Finn s ̊a f′(x) til følgende funksjoner:"
   ]
  },
  {
   "cell_type": "markdown",
   "id": "3668c333-da9b-4b50-a3d0-90025739ab33",
   "metadata": {},
   "source": [
    "#### e) \n",
    "$f(x) = x4 · x5$"
   ]
  },
  {
   "cell_type": "code",
   "execution_count": 171,
   "id": "1c9b43bd-1836-4d78-96f8-7e9e8d1ff063",
   "metadata": {},
   "outputs": [
    {
     "data": {
      "text/latex": [
       "$\\displaystyle 9 x^{8}$"
      ],
      "text/plain": [
       "9*x**8"
      ]
     },
     "execution_count": 171,
     "metadata": {},
     "output_type": "execute_result"
    }
   ],
   "source": [
    "expr = x**4*x**5\n",
    "diff(expr)"
   ]
  },
  {
   "cell_type": "markdown",
   "id": "c36bf68e-8f43-45cf-a829-b5abf061c0d9",
   "metadata": {},
   "source": [
    "#### f) \n",
    "$f(x) = x · √x$"
   ]
  },
  {
   "cell_type": "code",
   "execution_count": 174,
   "id": "bd6e94e6-93b5-4c83-8b0f-37cbad5e17d4",
   "metadata": {},
   "outputs": [
    {
     "data": {
      "text/latex": [
       "$\\displaystyle \\frac{3 \\sqrt{x}}{2}$"
      ],
      "text/plain": [
       "3*sqrt(x)/2"
      ]
     },
     "execution_count": 174,
     "metadata": {},
     "output_type": "execute_result"
    }
   ],
   "source": [
    "expr = x*sqrt(x)\n",
    "diff(expr)"
   ]
  },
  {
   "cell_type": "markdown",
   "id": "aba2b161-8bfd-478b-8d70-2302f8c343c6",
   "metadata": {},
   "source": [
    "#### g) \n",
    "$2/x^3$"
   ]
  },
  {
   "cell_type": "code",
   "execution_count": 175,
   "id": "d67b3454-f66a-4d46-abf0-9138f55e6b7a",
   "metadata": {},
   "outputs": [
    {
     "data": {
      "text/latex": [
       "$\\displaystyle - \\frac{6}{x^{4}}$"
      ],
      "text/plain": [
       "-6/x**4"
      ]
     },
     "execution_count": 175,
     "metadata": {},
     "output_type": "execute_result"
    }
   ],
   "source": [
    "expr = 2/x**3\n",
    "diff(expr)"
   ]
  },
  {
   "cell_type": "markdown",
   "id": "74b5b94a-34a8-41e3-9d15-7006818a841a",
   "metadata": {},
   "source": [
    "#### h) \n",
    "$f(x) = (x2 − 2)/x3$"
   ]
  },
  {
   "cell_type": "code",
   "execution_count": 176,
   "id": "3ac29814-4561-465f-beec-ff579c4c41c2",
   "metadata": {},
   "outputs": [
    {
     "data": {
      "text/latex": [
       "$\\displaystyle \\frac{2}{x^{2}} - \\frac{3 \\left(x^{2} - 2\\right)}{x^{4}}$"
      ],
      "text/plain": [
       "2/x**2 - 3*(x**2 - 2)/x**4"
      ]
     },
     "execution_count": 176,
     "metadata": {},
     "output_type": "execute_result"
    }
   ],
   "source": [
    "expr = (x**2-2)/x**3\n",
    "diff(expr)"
   ]
  },
  {
   "cell_type": "markdown",
   "id": "b7b5989f-cd31-4271-920c-1c3e8d750ae6",
   "metadata": {},
   "source": [
    "#### i) \n",
    "$f(x) = √x · x^6$"
   ]
  },
  {
   "cell_type": "code",
   "execution_count": 179,
   "id": "310e793b-9654-4c2c-9124-20c80bba2fd9",
   "metadata": {},
   "outputs": [
    {
     "data": {
      "text/latex": [
       "$\\displaystyle \\frac{13 x^{\\frac{11}{2}}}{2}$"
      ],
      "text/plain": [
       "13*x**(11/2)/2"
      ]
     },
     "execution_count": 179,
     "metadata": {},
     "output_type": "execute_result"
    }
   ],
   "source": [
    "expr = sqrt(x)*x**6\n",
    "diff(expr)"
   ]
  },
  {
   "cell_type": "markdown",
   "id": "92f5e372-2ee8-4b81-852c-990b63e20f0c",
   "metadata": {},
   "source": [
    "#### j) \n",
    "$f(x) = x · (x^2 + 1)$"
   ]
  },
  {
   "cell_type": "code",
   "execution_count": 180,
   "id": "9bd3f1a4-5ece-4018-b631-8fa4207ecb4d",
   "metadata": {},
   "outputs": [
    {
     "data": {
      "text/latex": [
       "$\\displaystyle 3 x^{2} + 1$"
      ],
      "text/plain": [
       "3*x**2 + 1"
      ]
     },
     "execution_count": 180,
     "metadata": {},
     "output_type": "execute_result"
    }
   ],
   "source": [
    "expr = x*(x**2+1)\n",
    "diff(expr)"
   ]
  },
  {
   "cell_type": "markdown",
   "id": "464bd49a-5d9a-4904-9a20-c86bebbde512",
   "metadata": {},
   "source": [
    "#### k) \n",
    "$f(x) = (x^2 + 4)/(x^3 − 1)$"
   ]
  },
  {
   "cell_type": "code",
   "execution_count": 61,
   "id": "cd05b870-ba14-45e6-971a-b88c238f2250",
   "metadata": {},
   "outputs": [
    {
     "data": {
      "text/latex": [
       "$\\displaystyle - \\frac{x \\left(x^{3} + 12 x + 2\\right)}{\\left(x - 1\\right)^{2} \\left(x^{2} + x + 1\\right)^{2}}$"
      ],
      "text/plain": [
       "-x*(x**3 + 12*x + 2)/((x - 1)**2*(x**2 + x + 1)**2)"
      ]
     },
     "execution_count": 61,
     "metadata": {},
     "output_type": "execute_result"
    }
   ],
   "source": [
    "expr = (x**2+4)/(x**3-1)\n",
    "factor(diff(expr))"
   ]
  },
  {
   "cell_type": "markdown",
   "id": "f6a84905-5bc0-41dc-accc-6ddb93f549c4",
   "metadata": {},
   "source": [
    "#### l) \n",
    "$f(x) = (x^2)/(x^2 + 2x)$"
   ]
  },
  {
   "cell_type": "code",
   "execution_count": 58,
   "id": "5b43f5da-7c6c-4826-803e-6e116c7f6274",
   "metadata": {},
   "outputs": [
    {
     "data": {
      "text/latex": [
       "$\\displaystyle \\frac{2}{\\left(x + 2\\right)^{2}}$"
      ],
      "text/plain": [
       "2/(x + 2)**2"
      ]
     },
     "execution_count": 58,
     "metadata": {},
     "output_type": "execute_result"
    }
   ],
   "source": [
    "expr = (x**2)/(x**2+2*x)\n",
    "factor(diff(expr))"
   ]
  },
  {
   "cell_type": "markdown",
   "id": "dbb76b07-b244-43f8-b4ba-e4ebfc4ef326",
   "metadata": {},
   "source": [
    "#### m) \n",
    "$f(x) = (x^2 + 4x + 2)/(x − 2)$"
   ]
  },
  {
   "cell_type": "code",
   "execution_count": 62,
   "id": "4dfbff0e-598c-4664-be59-525f34d9cd25",
   "metadata": {},
   "outputs": [
    {
     "data": {
      "text/latex": [
       "$\\displaystyle \\frac{x^{2} - 4 x - 10}{\\left(x - 2\\right)^{2}}$"
      ],
      "text/plain": [
       "(x**2 - 4*x - 10)/(x - 2)**2"
      ]
     },
     "execution_count": 62,
     "metadata": {},
     "output_type": "execute_result"
    }
   ],
   "source": [
    "expr = (x**2+4*x+2)/(x-2)\n",
    "factor(diff(expr))"
   ]
  },
  {
   "cell_type": "markdown",
   "id": "a9bf3f35-690e-4fa6-875f-19b04b0ae85c",
   "metadata": {},
   "source": [
    "### Oppgave 2\n",
    "Deriver de tre funksjonene nedenfor.\n",
    "#### a) \n",
    "f(x) = (x3 − 2x)/(x2 − 1)"
   ]
  },
  {
   "cell_type": "code",
   "execution_count": 63,
   "id": "707eccc9-4b21-4dfa-983f-b1ed4c0ca25a",
   "metadata": {},
   "outputs": [
    {
     "data": {
      "text/latex": [
       "$\\displaystyle \\frac{x^{4} - x^{2} + 2}{\\left(x - 1\\right)^{2} \\left(x + 1\\right)^{2}}$"
      ],
      "text/plain": [
       "(x**4 - x**2 + 2)/((x - 1)**2*(x + 1)**2)"
      ]
     },
     "execution_count": 63,
     "metadata": {},
     "output_type": "execute_result"
    }
   ],
   "source": [
    "expr = (x**3-2*x)/(x**2-1)\n",
    "factor(diff(expr))"
   ]
  },
  {
   "cell_type": "markdown",
   "id": "cb5d5c2c-ec6f-4d45-aa0f-b62290640c20",
   "metadata": {},
   "source": [
    "#### b) \n",
    "$f(x) = (x^2 + 1)(x^2 − 1)$"
   ]
  },
  {
   "cell_type": "code",
   "execution_count": 64,
   "id": "2446a733-5438-4573-bf53-4b855d4da196",
   "metadata": {},
   "outputs": [
    {
     "data": {
      "text/latex": [
       "$\\displaystyle 4 x^{3}$"
      ],
      "text/plain": [
       "4*x**3"
      ]
     },
     "execution_count": 64,
     "metadata": {},
     "output_type": "execute_result"
    }
   ],
   "source": [
    "expr = (x**2+1)*(x**2-1)\n",
    "factor(diff(expr))"
   ]
  },
  {
   "cell_type": "markdown",
   "id": "49951f6a-05ff-41ed-aebb-35ca6aa43f88",
   "metadata": {},
   "source": [
    "#### c) \n",
    "$f(x) = (3x − 4)/(x^3 + 7)$"
   ]
  },
  {
   "cell_type": "code",
   "execution_count": 65,
   "id": "12494888-e7f9-418b-8ae2-68367fea661c",
   "metadata": {},
   "outputs": [
    {
     "data": {
      "text/latex": [
       "$\\displaystyle - \\frac{3 \\cdot \\left(2 x^{3} - 4 x^{2} - 7\\right)}{\\left(x^{3} + 7\\right)^{2}}$"
      ],
      "text/plain": [
       "-3*(2*x**3 - 4*x**2 - 7)/(x**3 + 7)**2"
      ]
     },
     "execution_count": 65,
     "metadata": {},
     "output_type": "execute_result"
    }
   ],
   "source": [
    "expr = (3*x-4)/(x**3+7)\n",
    "factor(diff(expr))"
   ]
  },
  {
   "cell_type": "markdown",
   "id": "9df42a7b-3052-4e24-83b8-5db537d6b5e7",
   "metadata": {},
   "source": [
    "## OPPGAVE 21\n",
    "### Oppgave 1\n",
    "Finn f′(x) til følgende funksjoner:\n",
    "#### a) \n",
    "$f(x) = (x3 + 6x)5$"
   ]
  },
  {
   "cell_type": "code",
   "execution_count": 98,
   "id": "516c32f7-5de8-487b-8d99-b3e1fb4baff2",
   "metadata": {},
   "outputs": [
    {
     "data": {
      "text/latex": [
       "$\\displaystyle 15 x^{4} \\left(x^{2} + 2\\right) \\left(x^{2} + 6\\right)^{4}$"
      ],
      "text/plain": [
       "15*x**4*(x**2 + 2)*(x**2 + 6)**4"
      ]
     },
     "execution_count": 98,
     "metadata": {},
     "output_type": "execute_result"
    }
   ],
   "source": [
    "expr = (x**3+6*x)**5\n",
    "factor(diff(expr))"
   ]
  },
  {
   "cell_type": "markdown",
   "id": "023ea588-9c2e-466c-83bd-c5d1f997d58b",
   "metadata": {},
   "source": [
    "#### b) \n",
    "$f(x) = √2x2 + 5$"
   ]
  },
  {
   "cell_type": "code",
   "execution_count": 68,
   "id": "ebbd1824-5f95-4c1c-affe-fb8794075d9b",
   "metadata": {},
   "outputs": [
    {
     "data": {
      "text/latex": [
       "$\\displaystyle \\frac{2 x}{\\sqrt{2 x^{2} + 5}}$"
      ],
      "text/plain": [
       "2*x/sqrt(2*x**2 + 5)"
      ]
     },
     "execution_count": 68,
     "metadata": {},
     "output_type": "execute_result"
    }
   ],
   "source": [
    "expr = sqrt(2*x**2+5)\n",
    "factor(diff(expr))"
   ]
  },
  {
   "cell_type": "markdown",
   "id": "4a80436d-eb61-4255-801b-cbc5b8d0929a",
   "metadata": {},
   "source": [
    "#### c) \n",
    "$f(x) = (2x/(x2 + 3))4$"
   ]
  },
  {
   "cell_type": "code",
   "execution_count": 72,
   "id": "e4f25e3e-c070-460c-b273-b80a2dda2dac",
   "metadata": {},
   "outputs": [
    {
     "data": {
      "text/latex": [
       "$\\displaystyle - \\frac{64 x^{3} \\left(x^{2} - 3\\right)}{\\left(x^{2} + 3\\right)^{5}}$"
      ],
      "text/plain": [
       "-64*x**3*(x**2 - 3)/(x**2 + 3)**5"
      ]
     },
     "execution_count": 72,
     "metadata": {},
     "output_type": "execute_result"
    }
   ],
   "source": [
    "expr = (2*x/(x**2+3))**4\n",
    "factor(diff(expr))"
   ]
  },
  {
   "cell_type": "markdown",
   "id": "38004ff7-5572-4fe4-a682-688d174e8175",
   "metadata": {},
   "source": [
    "#### d) \n",
    "$f(x) = (2x4 + 9)^(3/2)$"
   ]
  },
  {
   "cell_type": "code",
   "execution_count": 73,
   "id": "6db5460f-2149-45ff-acef-c78af82c680d",
   "metadata": {},
   "outputs": [
    {
     "data": {
      "text/latex": [
       "$\\displaystyle 12.0 x^{3} \\left(2 x^{4} + 9\\right)^{0.5}$"
      ],
      "text/plain": [
       "12.0*x**3*(2*x**4 + 9)**0.5"
      ]
     },
     "execution_count": 73,
     "metadata": {},
     "output_type": "execute_result"
    }
   ],
   "source": [
    "expr = (2*x**4+9)**(3/2)\n",
    "factor(diff(expr))"
   ]
  },
  {
   "cell_type": "markdown",
   "id": "999ebfb2-bf69-4205-9e14-84a9ce470ae0",
   "metadata": {},
   "source": [
    "#### e) \n",
    "$f(x) = 1√1 + x2$"
   ]
  },
  {
   "cell_type": "code",
   "execution_count": 100,
   "id": "0d756a0c-fa8c-4c32-8c4b-a3b4af1a64cd",
   "metadata": {},
   "outputs": [
    {
     "data": {
      "text/latex": [
       "$\\displaystyle \\frac{x}{\\sqrt{x^{2} + 1}}$"
      ],
      "text/plain": [
       "x/sqrt(x**2 + 1)"
      ]
     },
     "execution_count": 100,
     "metadata": {},
     "output_type": "execute_result"
    }
   ],
   "source": [
    "expr = sqrt(1+x**2)\n",
    "factor(diff(expr))"
   ]
  },
  {
   "cell_type": "markdown",
   "id": "45f43364-c1ce-474a-b004-72a921c88dfe",
   "metadata": {},
   "source": [
    "#### f) \n",
    "$f(x) = x2 · (x2 + 2x)3$"
   ]
  },
  {
   "cell_type": "code",
   "execution_count": 104,
   "id": "67866ca2-e774-4cfb-9a73-e04b433121f0",
   "metadata": {},
   "outputs": [
    {
     "data": {
      "text/latex": [
       "$\\displaystyle 2 x^{4} \\left(x + 2\\right)^{2} \\cdot \\left(4 x + 5\\right)$"
      ],
      "text/plain": [
       "2*x**4*(x + 2)**2*(4*x + 5)"
      ]
     },
     "execution_count": 104,
     "metadata": {},
     "output_type": "execute_result"
    }
   ],
   "source": [
    "expr = x**2*(x**2+2*x)**3\n",
    "factor(diff(expr))"
   ]
  },
  {
   "cell_type": "markdown",
   "id": "963d4d3e-2844-447f-9123-aaa967d30043",
   "metadata": {},
   "source": [
    "#### g) \n",
    "$f(x) =  x2 · √x2 − 2x$"
   ]
  },
  {
   "cell_type": "code",
   "execution_count": 78,
   "id": "b1f087c3-3fd9-4eae-a394-977dba81b263",
   "metadata": {},
   "outputs": [
    {
     "data": {
      "text/latex": [
       "$\\displaystyle \\frac{x^{\\frac{3}{2}} \\cdot \\left(3 x - 5\\right)}{\\sqrt{x - 2}}$"
      ],
      "text/plain": [
       "x**(3/2)*(3*x - 5)/sqrt(x - 2)"
      ]
     },
     "execution_count": 78,
     "metadata": {},
     "output_type": "execute_result"
    }
   ],
   "source": [
    "expr = x**2*sqrt(x**2-2*x)\n",
    "factor(diff(expr))"
   ]
  },
  {
   "cell_type": "markdown",
   "id": "476eaedd-166f-4aca-8266-3962a5504c90",
   "metadata": {},
   "source": [
    "#### h) \n",
    "$f(x) = x2\n",
    "(x2 + x)3$"
   ]
  },
  {
   "cell_type": "code",
   "execution_count": 86,
   "id": "2334c73f-ce9d-41f7-9d1e-dcd7447a215a",
   "metadata": {},
   "outputs": [
    {
     "data": {
      "text/latex": [
       "$\\displaystyle x^{4} \\left(x + 1\\right)^{2} \\cdot \\left(8 x + 5\\right)$"
      ],
      "text/plain": [
       "x**4*(x + 1)**2*(8*x + 5)"
      ]
     },
     "execution_count": 86,
     "metadata": {},
     "output_type": "execute_result"
    }
   ],
   "source": [
    "expr = x**2*(x**2+x)**3\n",
    "factor(diff(expr))"
   ]
  },
  {
   "cell_type": "markdown",
   "id": "9b2e3785-cec9-4f57-bdd0-a0cba4f2f557",
   "metadata": {},
   "source": [
    "#### i) \n",
    "$f(x) = (x2 + 1)2 · (x3 + 1)3$"
   ]
  },
  {
   "cell_type": "code",
   "execution_count": 85,
   "id": "8aa879e4-7691-48e2-b428-45895a55bde6",
   "metadata": {},
   "outputs": [
    {
     "data": {
      "text/latex": [
       "$\\displaystyle x \\left(x + 1\\right)^{2} \\left(x^{2} + 1\\right) \\left(x^{2} - x + 1\\right)^{2} \\cdot \\left(13 x^{3} + 9 x + 4\\right)$"
      ],
      "text/plain": [
       "x*(x + 1)**2*(x**2 + 1)*(x**2 - x + 1)**2*(13*x**3 + 9*x + 4)"
      ]
     },
     "execution_count": 85,
     "metadata": {},
     "output_type": "execute_result"
    }
   ],
   "source": [
    "expr = (x**2+1)**2*(x**3+1)**3\n",
    "factor(diff(expr))"
   ]
  },
  {
   "cell_type": "markdown",
   "id": "efde6825-a6ef-4002-8b2c-f6385ed05d01",
   "metadata": {},
   "source": [
    "### Oppgave 2\n",
    "Deriver funksjonene nedenfor.\n",
    "\n",
    "#### a) \n",
    "$f(x) =  √(3x2 + 2x)4 $"
   ]
  },
  {
   "cell_type": "code",
   "execution_count": 109,
   "id": "f36f55fa-a395-41ac-9e26-d66ca66f956e",
   "metadata": {},
   "outputs": [
    {
     "data": {
      "text/latex": [
       "$\\displaystyle 4 x \\left(3 x + 1\\right) \\left(3 x + 2\\right)$"
      ],
      "text/plain": [
       "4*x*(3*x + 1)*(3*x + 2)"
      ]
     },
     "execution_count": 109,
     "metadata": {},
     "output_type": "execute_result"
    }
   ],
   "source": [
    "expr = sqrt((3*x**2+2*x)**4)\n",
    "factor(diff(expr))"
   ]
  },
  {
   "cell_type": "markdown",
   "id": "3b7fae7d-f93b-48c7-a800-9fc1cc5aafb8",
   "metadata": {},
   "source": [
    "#### b) \n",
    "$f(x) = (x3 + 3)5 · (x2 + 3)4$"
   ]
  },
  {
   "cell_type": "code",
   "execution_count": 90,
   "id": "a9ba55fa-9b19-4cba-9824-2babc54331e3",
   "metadata": {},
   "outputs": [
    {
     "data": {
      "text/latex": [
       "$\\displaystyle x \\left(x^{2} + 3\\right)^{3} \\left(x^{3} + 3\\right)^{4} \\cdot \\left(23 x^{3} + 45 x + 24\\right)$"
      ],
      "text/plain": [
       "x*(x**2 + 3)**3*(x**3 + 3)**4*(23*x**3 + 45*x + 24)"
      ]
     },
     "execution_count": 90,
     "metadata": {},
     "output_type": "execute_result"
    }
   ],
   "source": [
    "expr = (x**3+3)**5*(x**2+3)**4\n",
    "factor(diff(expr))"
   ]
  },
  {
   "cell_type": "markdown",
   "id": "9121e64e-ca27-44cb-8ef7-090b1537ffbf",
   "metadata": {},
   "source": [
    "#### c) \n",
    "$f(x) = √x2 + 1 · x2$"
   ]
  },
  {
   "cell_type": "code",
   "execution_count": 91,
   "id": "58fa1e17-1fd2-41e9-b288-7eb0dd288d74",
   "metadata": {},
   "outputs": [
    {
     "data": {
      "text/latex": [
       "$\\displaystyle \\frac{x^{3} \\cdot \\left(5 x^{2} + 4\\right)}{\\sqrt{x^{2} + 1}}$"
      ],
      "text/plain": [
       "x**3*(5*x**2 + 4)/sqrt(x**2 + 1)"
      ]
     },
     "execution_count": 91,
     "metadata": {},
     "output_type": "execute_result"
    }
   ],
   "source": [
    "expr = sqrt(x**2+1)*x**4\n",
    "factor(diff(expr))"
   ]
  },
  {
   "cell_type": "markdown",
   "id": "05d6d617-9cf6-4408-bd54-92b9843d349f",
   "metadata": {},
   "source": [
    "#### d) \n",
    "$f(x) = (2x + 3x2)3\n",
    "x2 $"
   ]
  },
  {
   "cell_type": "code",
   "execution_count": 92,
   "id": "923a4c66-9a3b-4577-8362-c16b98ea60a1",
   "metadata": {},
   "outputs": [
    {
     "data": {
      "text/latex": [
       "$\\displaystyle 18 x^{2} \\cdot \\left(2 x + 1\\right)$"
      ],
      "text/plain": [
       "18*x**2*(2*x + 1)"
      ]
     },
     "execution_count": 92,
     "metadata": {},
     "output_type": "execute_result"
    }
   ],
   "source": [
    "expr = (2*x+3*x**2)*3*x**2\n",
    "factor(diff(expr))"
   ]
  },
  {
   "cell_type": "markdown",
   "id": "3f06c779-5b4e-443a-a88c-17ce9832306c",
   "metadata": {},
   "source": [
    "#### e) \n",
    "$f(x) = 3√x4 − 5$"
   ]
  },
  {
   "cell_type": "code",
   "execution_count": 93,
   "id": "fadde2f1-864c-427b-a2fd-6ee9543a3b2c",
   "metadata": {},
   "outputs": [
    {
     "data": {
      "text/latex": [
       "$\\displaystyle \\frac{6 x^{3}}{\\sqrt{x^{4} - 5}}$"
      ],
      "text/plain": [
       "6*x**3/sqrt(x**4 - 5)"
      ]
     },
     "execution_count": 93,
     "metadata": {},
     "output_type": "execute_result"
    }
   ],
   "source": [
    "expr = 3*sqrt(x**4-5)\n",
    "factor(diff(expr))"
   ]
  },
  {
   "cell_type": "markdown",
   "id": "090553cb-3053-4391-91bf-52df8fd61a76",
   "metadata": {},
   "source": [
    "#### f) \n",
    "$f(x) = x3\n",
    "√x4 − 1$"
   ]
  },
  {
   "cell_type": "code",
   "execution_count": 94,
   "id": "71f2515b-ffa5-401b-900c-a528fda7fd88",
   "metadata": {},
   "outputs": [
    {
     "data": {
      "text/latex": [
       "$\\displaystyle \\frac{x^{2} \\cdot \\left(5 x^{4} - 3\\right)}{\\sqrt{x - 1} \\sqrt{x + 1} \\sqrt{x^{2} + 1}}$"
      ],
      "text/plain": [
       "x**2*(5*x**4 - 3)/(sqrt(x - 1)*sqrt(x + 1)*sqrt(x**2 + 1))"
      ]
     },
     "execution_count": 94,
     "metadata": {},
     "output_type": "execute_result"
    }
   ],
   "source": [
    "expr = x**3*sqrt(x**4-1)\n",
    "factor(diff(expr))"
   ]
  },
  {
   "cell_type": "markdown",
   "id": "2e470606-b343-44a8-8b54-d6ba30a0beca",
   "metadata": {},
   "source": [
    "## OPPGAVE 22\n",
    "\n",
    "Finner ikke siden, faar \"Side ikke funnet\""
   ]
  },
  {
   "cell_type": "code",
   "execution_count": null,
   "id": "eb04374b-60d1-4c41-9326-425d15bd29fa",
   "metadata": {},
   "outputs": [],
   "source": []
  }
 ],
 "metadata": {
  "kernelspec": {
   "display_name": "Python 3 (ipykernel)",
   "language": "python",
   "name": "python3"
  },
  "language_info": {
   "codemirror_mode": {
    "name": "ipython",
    "version": 3
   },
   "file_extension": ".py",
   "mimetype": "text/x-python",
   "name": "python",
   "nbconvert_exporter": "python",
   "pygments_lexer": "ipython3",
   "version": "3.10.6"
  }
 },
 "nbformat": 4,
 "nbformat_minor": 5
}
